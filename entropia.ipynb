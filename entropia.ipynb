{
 "cells": [
  {
   "cell_type": "code",
   "execution_count": 1,
   "metadata": {},
   "outputs": [],
   "source": [
    "%matplotlib inline"
   ]
  },
  {
   "cell_type": "code",
   "execution_count": 2,
   "metadata": {},
   "outputs": [],
   "source": [
    "import pandas as pd"
   ]
  },
  {
   "cell_type": "markdown",
   "metadata": {},
   "source": [
    "## Dane"
   ]
  },
  {
   "cell_type": "code",
   "execution_count": 3,
   "metadata": {},
   "outputs": [],
   "source": [
    "wolne = ['książka', 'książka', 'książka', 'książka', 'telewizja', 'książka', 'telewizja', 'telewizja', 'książka', \n",
    "         'książka', 'telewizja', 'telewizja', 'telewizja', 'książka', 'telewizja', 'telewizja', 'telewizja', 'książka', \n",
    "         'książka', 'telewizja']\n",
    "napój = ['herbata', 'kawa', 'kawa', 'herbata', 'kawa', 'kawa', 'herbata', 'kawa', 'kawa', 'herbata', 'herbata', \n",
    "         'herbata', 'kawa', 'kawa', 'herbata', 'kawa', 'herbata', 'herbata', 'herbata', 'kawa']\n",
    "wyjście = ['teatr', 'teatr', 'kino', 'kino', 'teatr', 'kino', 'kino', 'teatr', 'kino', 'kino', 'kino', 'teatr', 'teatr',\n",
    "           'teatr', 'kino', 'kino', 'teatr', 'teatr', 'teatr', 'teatr']\n",
    "po_roku = ['Tak', 'Nie', 'Tak', 'Tak', 'Nie', 'Tak', 'Nie', 'Tak', 'Nie', 'Tak', 'Nie', 'Nie', 'Nie', 'Tak', 'Nie', \n",
    "           'Nie', 'Tak', 'Nie', 'Nie', 'Tak']"
   ]
  },
  {
   "cell_type": "markdown",
   "metadata": {},
   "source": [
    "## Przerabianie list na data frame"
   ]
  },
  {
   "cell_type": "code",
   "execution_count": 4,
   "metadata": {},
   "outputs": [],
   "source": [
    "prenumeratorzy = pd.DataFrame({\"wolne\": wolne, \"napój\": napój, \"wyjście\": wyjście, \"po_roku\":po_roku})"
   ]
  },
  {
   "cell_type": "code",
   "execution_count": 5,
   "metadata": {},
   "outputs": [
    {
     "data": {
      "text/html": [
       "<div>\n",
       "<style scoped>\n",
       "    .dataframe tbody tr th:only-of-type {\n",
       "        vertical-align: middle;\n",
       "    }\n",
       "\n",
       "    .dataframe tbody tr th {\n",
       "        vertical-align: top;\n",
       "    }\n",
       "\n",
       "    .dataframe thead th {\n",
       "        text-align: right;\n",
       "    }\n",
       "</style>\n",
       "<table border=\"1\" class=\"dataframe\">\n",
       "  <thead>\n",
       "    <tr style=\"text-align: right;\">\n",
       "      <th></th>\n",
       "      <th>wolne</th>\n",
       "      <th>napój</th>\n",
       "      <th>wyjście</th>\n",
       "      <th>po_roku</th>\n",
       "    </tr>\n",
       "  </thead>\n",
       "  <tbody>\n",
       "    <tr>\n",
       "      <th>0</th>\n",
       "      <td>książka</td>\n",
       "      <td>herbata</td>\n",
       "      <td>teatr</td>\n",
       "      <td>Tak</td>\n",
       "    </tr>\n",
       "    <tr>\n",
       "      <th>1</th>\n",
       "      <td>książka</td>\n",
       "      <td>kawa</td>\n",
       "      <td>teatr</td>\n",
       "      <td>Nie</td>\n",
       "    </tr>\n",
       "    <tr>\n",
       "      <th>2</th>\n",
       "      <td>książka</td>\n",
       "      <td>kawa</td>\n",
       "      <td>kino</td>\n",
       "      <td>Tak</td>\n",
       "    </tr>\n",
       "    <tr>\n",
       "      <th>3</th>\n",
       "      <td>książka</td>\n",
       "      <td>herbata</td>\n",
       "      <td>kino</td>\n",
       "      <td>Tak</td>\n",
       "    </tr>\n",
       "    <tr>\n",
       "      <th>4</th>\n",
       "      <td>telewizja</td>\n",
       "      <td>kawa</td>\n",
       "      <td>teatr</td>\n",
       "      <td>Nie</td>\n",
       "    </tr>\n",
       "    <tr>\n",
       "      <th>5</th>\n",
       "      <td>książka</td>\n",
       "      <td>kawa</td>\n",
       "      <td>kino</td>\n",
       "      <td>Tak</td>\n",
       "    </tr>\n",
       "    <tr>\n",
       "      <th>6</th>\n",
       "      <td>telewizja</td>\n",
       "      <td>herbata</td>\n",
       "      <td>kino</td>\n",
       "      <td>Nie</td>\n",
       "    </tr>\n",
       "    <tr>\n",
       "      <th>7</th>\n",
       "      <td>telewizja</td>\n",
       "      <td>kawa</td>\n",
       "      <td>teatr</td>\n",
       "      <td>Tak</td>\n",
       "    </tr>\n",
       "    <tr>\n",
       "      <th>8</th>\n",
       "      <td>książka</td>\n",
       "      <td>kawa</td>\n",
       "      <td>kino</td>\n",
       "      <td>Nie</td>\n",
       "    </tr>\n",
       "    <tr>\n",
       "      <th>9</th>\n",
       "      <td>książka</td>\n",
       "      <td>herbata</td>\n",
       "      <td>kino</td>\n",
       "      <td>Tak</td>\n",
       "    </tr>\n",
       "    <tr>\n",
       "      <th>10</th>\n",
       "      <td>telewizja</td>\n",
       "      <td>herbata</td>\n",
       "      <td>kino</td>\n",
       "      <td>Nie</td>\n",
       "    </tr>\n",
       "    <tr>\n",
       "      <th>11</th>\n",
       "      <td>telewizja</td>\n",
       "      <td>herbata</td>\n",
       "      <td>teatr</td>\n",
       "      <td>Nie</td>\n",
       "    </tr>\n",
       "    <tr>\n",
       "      <th>12</th>\n",
       "      <td>telewizja</td>\n",
       "      <td>kawa</td>\n",
       "      <td>teatr</td>\n",
       "      <td>Nie</td>\n",
       "    </tr>\n",
       "    <tr>\n",
       "      <th>13</th>\n",
       "      <td>książka</td>\n",
       "      <td>kawa</td>\n",
       "      <td>teatr</td>\n",
       "      <td>Tak</td>\n",
       "    </tr>\n",
       "    <tr>\n",
       "      <th>14</th>\n",
       "      <td>telewizja</td>\n",
       "      <td>herbata</td>\n",
       "      <td>kino</td>\n",
       "      <td>Nie</td>\n",
       "    </tr>\n",
       "    <tr>\n",
       "      <th>15</th>\n",
       "      <td>telewizja</td>\n",
       "      <td>kawa</td>\n",
       "      <td>kino</td>\n",
       "      <td>Nie</td>\n",
       "    </tr>\n",
       "    <tr>\n",
       "      <th>16</th>\n",
       "      <td>telewizja</td>\n",
       "      <td>herbata</td>\n",
       "      <td>teatr</td>\n",
       "      <td>Tak</td>\n",
       "    </tr>\n",
       "    <tr>\n",
       "      <th>17</th>\n",
       "      <td>książka</td>\n",
       "      <td>herbata</td>\n",
       "      <td>teatr</td>\n",
       "      <td>Nie</td>\n",
       "    </tr>\n",
       "    <tr>\n",
       "      <th>18</th>\n",
       "      <td>książka</td>\n",
       "      <td>herbata</td>\n",
       "      <td>teatr</td>\n",
       "      <td>Nie</td>\n",
       "    </tr>\n",
       "    <tr>\n",
       "      <th>19</th>\n",
       "      <td>telewizja</td>\n",
       "      <td>kawa</td>\n",
       "      <td>teatr</td>\n",
       "      <td>Tak</td>\n",
       "    </tr>\n",
       "  </tbody>\n",
       "</table>\n",
       "</div>"
      ],
      "text/plain": [
       "        wolne    napój wyjście po_roku\n",
       "0     książka  herbata   teatr     Tak\n",
       "1     książka     kawa   teatr     Nie\n",
       "2     książka     kawa    kino     Tak\n",
       "3     książka  herbata    kino     Tak\n",
       "4   telewizja     kawa   teatr     Nie\n",
       "5     książka     kawa    kino     Tak\n",
       "6   telewizja  herbata    kino     Nie\n",
       "7   telewizja     kawa   teatr     Tak\n",
       "8     książka     kawa    kino     Nie\n",
       "9     książka  herbata    kino     Tak\n",
       "10  telewizja  herbata    kino     Nie\n",
       "11  telewizja  herbata   teatr     Nie\n",
       "12  telewizja     kawa   teatr     Nie\n",
       "13    książka     kawa   teatr     Tak\n",
       "14  telewizja  herbata    kino     Nie\n",
       "15  telewizja     kawa    kino     Nie\n",
       "16  telewizja  herbata   teatr     Tak\n",
       "17    książka  herbata   teatr     Nie\n",
       "18    książka  herbata   teatr     Nie\n",
       "19  telewizja     kawa   teatr     Tak"
      ]
     },
     "execution_count": 5,
     "metadata": {},
     "output_type": "execute_result"
    }
   ],
   "source": [
    "prenumeratorzy"
   ]
  },
  {
   "cell_type": "markdown",
   "metadata": {},
   "source": [
    "## Entropia"
   ]
  },
  {
   "cell_type": "markdown",
   "metadata": {},
   "source": [
    "* Entropia jest wartością którą chcemy zminimalizować\n",
    "* Jeżeli zbiór na którym pracujemy jest wymieszany “pół na pół” to entropia będzie wynosić 1 (maksimum)\n",
    "* Jeżeli w zbiorze mamy tylko jedną klasę, to entropia będzie równa 0 (minimum)\n",
    "\n",
    "Entropię wyznaczamy wzorem:\n",
    "\n",
    "$$H(X) = -\\sum_{i = 1}^{n}p_i \\cdot log_2p_i$$\n",
    "\n",
    "Dla dwoch klas będzie to więc:\n",
    "\n",
    "$$H(X) = -p_1 \\cdot log_2p_1 - (1-p_1) \\cdot log_2(1-p_1)$$"
   ]
  },
  {
   "cell_type": "markdown",
   "metadata": {},
   "source": [
    "## Wykres entropii binarnej"
   ]
  },
  {
   "cell_type": "code",
   "execution_count": 6,
   "metadata": {},
   "outputs": [
    {
     "data": {
      "image/png": "[encoded data removed]",
      "text/plain": [
       "<Figure size 432x288 with 1 Axes>"
      ]
     },
     "metadata": {},
     "output_type": "display_data"
    }
   ],
   "source": [
    "import pylab\n",
    "import numpy as np\n",
    "\n",
    "x = np.linspace(0.0001,0.9999,1000) # 1000 punktów\n",
    "y = -x * np.log2(x) - (1-x) * np.log2(1-x) # wyznaczenie wartości entropii\n",
    "\n",
    "# wykres\n",
    "pylab.plot(x,y)\n",
    "pylab.grid()\n",
    "pylab.show()"
   ]
  },
  {
   "cell_type": "code",
   "execution_count": 10,
   "metadata": {},
   "outputs": [],
   "source": [
    "P_Tak = len(prenumeratorzy[prenumeratorzy[\"po_roku\"] == \"Tak\"]) / len(prenumeratorzy)\n",
    "P_Nie = len(prenumeratorzy[prenumeratorzy[\"po_roku\"] == \"Nie\"]) / len(prenumeratorzy)"
   ]
  },
  {
   "cell_type": "code",
   "execution_count": 11,
   "metadata": {},
   "outputs": [
    {
     "data": {
      "text/plain": [
       "(0.45, 0.55)"
      ]
     },
     "execution_count": 11,
     "metadata": {},
     "output_type": "execute_result"
    }
   ],
   "source": [
    "P_Tak, P_Nie"
   ]
  },
  {
   "cell_type": "code",
   "execution_count": 12,
   "metadata": {},
   "outputs": [],
   "source": [
    "H_całość = -P_Tak * np.log2(P_Tak) - P_Nie * np.log2(P_Nie)"
   ]
  },
  {
   "cell_type": "code",
   "execution_count": 13,
   "metadata": {},
   "outputs": [
    {
     "data": {
      "text/plain": [
       "0.9927744539878083"
      ]
     },
     "execution_count": 13,
     "metadata": {},
     "output_type": "execute_result"
    }
   ],
   "source": [
    "H_całość"
   ]
  },
  {
   "cell_type": "markdown",
   "metadata": {},
   "source": [
    "## Podział po czasie wolnym"
   ]
  },
  {
   "cell_type": "code",
   "execution_count": 14,
   "metadata": {},
   "outputs": [],
   "source": [
    "prenumeratorzy_książka = prenumeratorzy[prenumeratorzy[\"wolne\"] == \"książka\"]\n",
    "prenumeratorzy_telewizja = prenumeratorzy[prenumeratorzy[\"wolne\"] == \"telewizja\"]"
   ]
  },
  {
   "cell_type": "code",
   "execution_count": 16,
   "metadata": {},
   "outputs": [],
   "source": [
    "P_Tak_książka = len(prenumeratorzy_książka[prenumeratorzy_książka[\"po_roku\"] == \"Tak\"]) / len(prenumeratorzy_książka)\n",
    "P_Nie_książka = len(prenumeratorzy_książka[prenumeratorzy_książka[\"po_roku\"] == \"Nie\"]) / len(prenumeratorzy_książka)\n",
    "H_książka = -P_Tak_książka * np.log2(P_Tak_książka) - P_Nie_książka * np.log2(P_Nie_książka)"
   ]
  },
  {
   "cell_type": "code",
   "execution_count": 17,
   "metadata": {},
   "outputs": [
    {
     "data": {
      "text/plain": [
       "0.9709505944546686"
      ]
     },
     "execution_count": 17,
     "metadata": {},
     "output_type": "execute_result"
    }
   ],
   "source": [
    "H_książka"
   ]
  },
  {
   "cell_type": "markdown",
   "metadata": {},
   "source": [
    "## Entropia jako funkcja"
   ]
  },
  {
   "cell_type": "code",
   "execution_count": 18,
   "metadata": {},
   "outputs": [],
   "source": [
    "def obliczenie_entropii(data_frame):\n",
    "    p_tak = len(data_frame[data_frame[\"po_roku\"] == \"Tak\"]) / len(data_frame)\n",
    "    p_nie = 1 - p_tak\n",
    "    H = -p_tak * np.log2(p_tak) - p_nie * np.log2(p_nie)\n",
    "    return H"
   ]
  },
  {
   "cell_type": "code",
   "execution_count": 19,
   "metadata": {},
   "outputs": [],
   "source": [
    "H_telewizja = obliczenie_entropii(prenumeratorzy_telewizja)"
   ]
  },
  {
   "cell_type": "code",
   "execution_count": 20,
   "metadata": {},
   "outputs": [
    {
     "data": {
      "text/plain": [
       "0.8812908992306927"
      ]
     },
     "execution_count": 20,
     "metadata": {},
     "output_type": "execute_result"
    }
   ],
   "source": [
    "H_telewizja"
   ]
  },
  {
   "cell_type": "markdown",
   "metadata": {},
   "source": [
    "## Podział po napojach"
   ]
  },
  {
   "cell_type": "code",
   "execution_count": 21,
   "metadata": {},
   "outputs": [],
   "source": [
    "prenumeratorzy_kawa = prenumeratorzy[prenumeratorzy[\"napój\"] == \"kawa\"]\n",
    "prenumeratorzy_herbata = prenumeratorzy[prenumeratorzy[\"napój\"] == \"herbata\"]"
   ]
  },
  {
   "cell_type": "code",
   "execution_count": 22,
   "metadata": {},
   "outputs": [],
   "source": [
    "H_kawa = obliczenie_entropii(prenumeratorzy_kawa)\n",
    "H_herbata = obliczenie_entropii(prenumeratorzy_herbata)"
   ]
  },
  {
   "cell_type": "code",
   "execution_count": 23,
   "metadata": {},
   "outputs": [
    {
     "data": {
      "text/plain": [
       "(1.0, 0.9709505944546686)"
      ]
     },
     "execution_count": 23,
     "metadata": {},
     "output_type": "execute_result"
    }
   ],
   "source": [
    "H_kawa, H_herbata"
   ]
  },
  {
   "cell_type": "code",
   "execution_count": 25,
   "metadata": {},
   "outputs": [
    {
     "data": {
      "text/html": [
       "<div>\n",
       "<style scoped>\n",
       "    .dataframe tbody tr th:only-of-type {\n",
       "        vertical-align: middle;\n",
       "    }\n",
       "\n",
       "    .dataframe tbody tr th {\n",
       "        vertical-align: top;\n",
       "    }\n",
       "\n",
       "    .dataframe thead th {\n",
       "        text-align: right;\n",
       "    }\n",
       "</style>\n",
       "<table border=\"1\" class=\"dataframe\">\n",
       "  <thead>\n",
       "    <tr style=\"text-align: right;\">\n",
       "      <th></th>\n",
       "      <th>wolne</th>\n",
       "      <th>napój</th>\n",
       "      <th>wyjście</th>\n",
       "      <th>po_roku</th>\n",
       "    </tr>\n",
       "  </thead>\n",
       "  <tbody>\n",
       "    <tr>\n",
       "      <th>1</th>\n",
       "      <td>książka</td>\n",
       "      <td>kawa</td>\n",
       "      <td>teatr</td>\n",
       "      <td>Nie</td>\n",
       "    </tr>\n",
       "    <tr>\n",
       "      <th>2</th>\n",
       "      <td>książka</td>\n",
       "      <td>kawa</td>\n",
       "      <td>kino</td>\n",
       "      <td>Tak</td>\n",
       "    </tr>\n",
       "    <tr>\n",
       "      <th>4</th>\n",
       "      <td>telewizja</td>\n",
       "      <td>kawa</td>\n",
       "      <td>teatr</td>\n",
       "      <td>Nie</td>\n",
       "    </tr>\n",
       "    <tr>\n",
       "      <th>5</th>\n",
       "      <td>książka</td>\n",
       "      <td>kawa</td>\n",
       "      <td>kino</td>\n",
       "      <td>Tak</td>\n",
       "    </tr>\n",
       "    <tr>\n",
       "      <th>7</th>\n",
       "      <td>telewizja</td>\n",
       "      <td>kawa</td>\n",
       "      <td>teatr</td>\n",
       "      <td>Tak</td>\n",
       "    </tr>\n",
       "    <tr>\n",
       "      <th>8</th>\n",
       "      <td>książka</td>\n",
       "      <td>kawa</td>\n",
       "      <td>kino</td>\n",
       "      <td>Nie</td>\n",
       "    </tr>\n",
       "    <tr>\n",
       "      <th>12</th>\n",
       "      <td>telewizja</td>\n",
       "      <td>kawa</td>\n",
       "      <td>teatr</td>\n",
       "      <td>Nie</td>\n",
       "    </tr>\n",
       "    <tr>\n",
       "      <th>13</th>\n",
       "      <td>książka</td>\n",
       "      <td>kawa</td>\n",
       "      <td>teatr</td>\n",
       "      <td>Tak</td>\n",
       "    </tr>\n",
       "    <tr>\n",
       "      <th>15</th>\n",
       "      <td>telewizja</td>\n",
       "      <td>kawa</td>\n",
       "      <td>kino</td>\n",
       "      <td>Nie</td>\n",
       "    </tr>\n",
       "    <tr>\n",
       "      <th>19</th>\n",
       "      <td>telewizja</td>\n",
       "      <td>kawa</td>\n",
       "      <td>teatr</td>\n",
       "      <td>Tak</td>\n",
       "    </tr>\n",
       "  </tbody>\n",
       "</table>\n",
       "</div>"
      ],
      "text/plain": [
       "        wolne napój wyjście po_roku\n",
       "1     książka  kawa   teatr     Nie\n",
       "2     książka  kawa    kino     Tak\n",
       "4   telewizja  kawa   teatr     Nie\n",
       "5     książka  kawa    kino     Tak\n",
       "7   telewizja  kawa   teatr     Tak\n",
       "8     książka  kawa    kino     Nie\n",
       "12  telewizja  kawa   teatr     Nie\n",
       "13    książka  kawa   teatr     Tak\n",
       "15  telewizja  kawa    kino     Nie\n",
       "19  telewizja  kawa   teatr     Tak"
      ]
     },
     "execution_count": 25,
     "metadata": {},
     "output_type": "execute_result"
    }
   ],
   "source": [
    "prenumeratorzy_kawa"
   ]
  },
  {
   "cell_type": "markdown",
   "metadata": {},
   "source": [
    "## Podział po miejscach \"na mieście\""
   ]
  },
  {
   "cell_type": "code",
   "execution_count": 26,
   "metadata": {},
   "outputs": [
    {
     "name": "stdout",
     "output_type": "stream",
     "text": [
      "0.9910760598382222 0.9940302114769565\n"
     ]
    }
   ],
   "source": [
    "H_kino = obliczenie_entropii(prenumeratorzy[prenumeratorzy[\"wyjście\"] == \"kino\"])\n",
    "H_teatr = obliczenie_entropii(prenumeratorzy[prenumeratorzy[\"wyjście\"] == \"teatr\"])\n",
    "print(H_kino, H_teatr)"
   ]
  },
  {
   "cell_type": "markdown",
   "metadata": {},
   "source": [
    "## Lepsza mała entropia w małym zbiorze, czy taka sobie w równych zbiorach?"
   ]
  },
  {
   "cell_type": "markdown",
   "metadata": {},
   "source": [
    "\n",
    "$$Przytrost \\, informacji(rodzic, dzieci) = entropia(rodzic) - [p(c_1) \\cdot entropia (c_1) + p(c_2) \\cdot entropia (c_2) + ...]$$"
   ]
  },
  {
   "cell_type": "code",
   "execution_count": 27,
   "metadata": {},
   "outputs": [
    {
     "data": {
      "text/plain": [
       "0.9927744539878083"
      ]
     },
     "execution_count": 27,
     "metadata": {},
     "output_type": "execute_result"
    }
   ],
   "source": [
    "H_całość"
   ]
  },
  {
   "cell_type": "markdown",
   "metadata": {},
   "source": [
    "### Czas wolny"
   ]
  },
  {
   "cell_type": "code",
   "execution_count": 28,
   "metadata": {},
   "outputs": [
    {
     "data": {
      "text/plain": [
       "(0.9709505944546686, 0.8812908992306927)"
      ]
     },
     "execution_count": 28,
     "metadata": {},
     "output_type": "execute_result"
    }
   ],
   "source": [
    "H_książka, H_telewizja"
   ]
  },
  {
   "cell_type": "code",
   "execution_count": 32,
   "metadata": {},
   "outputs": [
    {
     "data": {
      "text/plain": [
       "0.5"
      ]
     },
     "execution_count": 32,
     "metadata": {},
     "output_type": "execute_result"
    }
   ],
   "source": [
    "prenumeratorzy[\"wolne\"].value_counts(normalize = True)[\"książka\"]"
   ]
  },
  {
   "cell_type": "code",
   "execution_count": 33,
   "metadata": {},
   "outputs": [
    {
     "data": {
      "text/plain": [
       "(0.5, 0.5)"
      ]
     },
     "execution_count": 33,
     "metadata": {},
     "output_type": "execute_result"
    }
   ],
   "source": [
    "P_książka = prenumeratorzy[\"wolne\"].value_counts(normalize = True)[\"książka\"]\n",
    "P_telewizja = prenumeratorzy[\"wolne\"].value_counts(normalize = True)[\"telewizja\"]\n",
    "P_książka, P_telewizja"
   ]
  },
  {
   "cell_type": "code",
   "execution_count": 34,
   "metadata": {},
   "outputs": [
    {
     "data": {
      "text/plain": [
       "0.06665370714512764"
      ]
     },
     "execution_count": 34,
     "metadata": {},
     "output_type": "execute_result"
    }
   ],
   "source": [
    "PI_wolne = H_całość - P_książka * H_książka - P_telewizja * H_telewizja\n",
    "PI_wolne"
   ]
  },
  {
   "cell_type": "markdown",
   "metadata": {},
   "source": [
    "### Preferowany napój"
   ]
  },
  {
   "cell_type": "code",
   "execution_count": 35,
   "metadata": {},
   "outputs": [
    {
     "data": {
      "text/plain": [
       "(1.0, 0.9709505944546686)"
      ]
     },
     "execution_count": 35,
     "metadata": {},
     "output_type": "execute_result"
    }
   ],
   "source": [
    "H_kawa, H_herbata"
   ]
  },
  {
   "cell_type": "code",
   "execution_count": 36,
   "metadata": {},
   "outputs": [
    {
     "data": {
      "text/plain": [
       "(0.5, 0.5)"
      ]
     },
     "execution_count": 36,
     "metadata": {},
     "output_type": "execute_result"
    }
   ],
   "source": [
    "P_kawa = prenumeratorzy[\"napój\"].value_counts(normalize = True)[\"kawa\"]\n",
    "P_herbata = prenumeratorzy[\"napój\"].value_counts(normalize = True)[\"herbata\"]\n",
    "P_kawa, P_herbata"
   ]
  },
  {
   "cell_type": "code",
   "execution_count": 37,
   "metadata": {},
   "outputs": [
    {
     "data": {
      "text/plain": [
       "0.00729915676047399"
      ]
     },
     "execution_count": 37,
     "metadata": {},
     "output_type": "execute_result"
    }
   ],
   "source": [
    "PI_napój = H_całość - P_kawa * H_kawa - P_herbata * H_herbata\n",
    "PI_napój"
   ]
  },
  {
   "cell_type": "markdown",
   "metadata": {},
   "source": [
    "### Ulubione atrakcje \"na mieście\""
   ]
  },
  {
   "cell_type": "code",
   "execution_count": 38,
   "metadata": {},
   "outputs": [
    {
     "data": {
      "text/plain": [
       "(0.9910760598382222, 0.9940302114769565)"
      ]
     },
     "execution_count": 38,
     "metadata": {},
     "output_type": "execute_result"
    }
   ],
   "source": [
    "H_kino, H_teatr"
   ]
  },
  {
   "cell_type": "code",
   "execution_count": 39,
   "metadata": {},
   "outputs": [
    {
     "data": {
      "text/plain": [
       "(0.45, 0.55)"
      ]
     },
     "execution_count": 39,
     "metadata": {},
     "output_type": "execute_result"
    }
   ],
   "source": [
    "P_kino = prenumeratorzy[\"wyjście\"].value_counts(normalize = True)[\"kino\"]\n",
    "P_teatr = prenumeratorzy[\"wyjście\"].value_counts(normalize = True)[\"teatr\"]\n",
    "P_kino, P_teatr"
   ]
  },
  {
   "cell_type": "code",
   "execution_count": 40,
   "metadata": {},
   "outputs": [
    {
     "data": {
      "text/plain": [
       "7.361074828204917e-05"
      ]
     },
     "execution_count": 40,
     "metadata": {},
     "output_type": "execute_result"
    }
   ],
   "source": [
    "PI_wyjście = H_całość - P_kino * H_kino - P_teatr * H_teatr\n",
    "PI_wyjście"
   ]
  },
  {
   "cell_type": "code",
   "execution_count": 41,
   "metadata": {},
   "outputs": [
    {
     "data": {
      "text/plain": [
       "(0.06665370714512764, 0.00729915676047399, 7.361074828204917e-05)"
      ]
     },
     "execution_count": 41,
     "metadata": {},
     "output_type": "execute_result"
    }
   ],
   "source": [
    "PI_wolne, PI_napój, PI_wyjście"
   ]
  },
  {
   "cell_type": "code",
   "execution_count": 43,
   "metadata": {},
   "outputs": [
    {
     "data": {
      "text/html": [
       "<div>\n",
       "<style scoped>\n",
       "    .dataframe tbody tr th:only-of-type {\n",
       "        vertical-align: middle;\n",
       "    }\n",
       "\n",
       "    .dataframe tbody tr th {\n",
       "        vertical-align: top;\n",
       "    }\n",
       "\n",
       "    .dataframe thead th {\n",
       "        text-align: right;\n",
       "    }\n",
       "</style>\n",
       "<table border=\"1\" class=\"dataframe\">\n",
       "  <thead>\n",
       "    <tr style=\"text-align: right;\">\n",
       "      <th></th>\n",
       "      <th>wolne</th>\n",
       "      <th>napój</th>\n",
       "      <th>wyjście</th>\n",
       "      <th>po_roku</th>\n",
       "    </tr>\n",
       "  </thead>\n",
       "  <tbody>\n",
       "    <tr>\n",
       "      <th>0</th>\n",
       "      <td>książka</td>\n",
       "      <td>herbata</td>\n",
       "      <td>teatr</td>\n",
       "      <td>Tak</td>\n",
       "    </tr>\n",
       "    <tr>\n",
       "      <th>1</th>\n",
       "      <td>książka</td>\n",
       "      <td>kawa</td>\n",
       "      <td>teatr</td>\n",
       "      <td>Nie</td>\n",
       "    </tr>\n",
       "    <tr>\n",
       "      <th>2</th>\n",
       "      <td>książka</td>\n",
       "      <td>kawa</td>\n",
       "      <td>kino</td>\n",
       "      <td>Tak</td>\n",
       "    </tr>\n",
       "    <tr>\n",
       "      <th>3</th>\n",
       "      <td>książka</td>\n",
       "      <td>herbata</td>\n",
       "      <td>kino</td>\n",
       "      <td>Tak</td>\n",
       "    </tr>\n",
       "    <tr>\n",
       "      <th>5</th>\n",
       "      <td>książka</td>\n",
       "      <td>kawa</td>\n",
       "      <td>kino</td>\n",
       "      <td>Tak</td>\n",
       "    </tr>\n",
       "    <tr>\n",
       "      <th>8</th>\n",
       "      <td>książka</td>\n",
       "      <td>kawa</td>\n",
       "      <td>kino</td>\n",
       "      <td>Nie</td>\n",
       "    </tr>\n",
       "    <tr>\n",
       "      <th>9</th>\n",
       "      <td>książka</td>\n",
       "      <td>herbata</td>\n",
       "      <td>kino</td>\n",
       "      <td>Tak</td>\n",
       "    </tr>\n",
       "    <tr>\n",
       "      <th>13</th>\n",
       "      <td>książka</td>\n",
       "      <td>kawa</td>\n",
       "      <td>teatr</td>\n",
       "      <td>Tak</td>\n",
       "    </tr>\n",
       "    <tr>\n",
       "      <th>17</th>\n",
       "      <td>książka</td>\n",
       "      <td>herbata</td>\n",
       "      <td>teatr</td>\n",
       "      <td>Nie</td>\n",
       "    </tr>\n",
       "    <tr>\n",
       "      <th>18</th>\n",
       "      <td>książka</td>\n",
       "      <td>herbata</td>\n",
       "      <td>teatr</td>\n",
       "      <td>Nie</td>\n",
       "    </tr>\n",
       "  </tbody>\n",
       "</table>\n",
       "</div>"
      ],
      "text/plain": [
       "      wolne    napój wyjście po_roku\n",
       "0   książka  herbata   teatr     Tak\n",
       "1   książka     kawa   teatr     Nie\n",
       "2   książka     kawa    kino     Tak\n",
       "3   książka  herbata    kino     Tak\n",
       "5   książka     kawa    kino     Tak\n",
       "8   książka     kawa    kino     Nie\n",
       "9   książka  herbata    kino     Tak\n",
       "13  książka     kawa   teatr     Tak\n",
       "17  książka  herbata   teatr     Nie\n",
       "18  książka  herbata   teatr     Nie"
      ]
     },
     "execution_count": 43,
     "metadata": {},
     "output_type": "execute_result"
    }
   ],
   "source": [
    "prenumeratorzy[prenumeratorzy[\"wolne\"] == \"książka\"]"
   ]
  },
  {
   "cell_type": "code",
   "execution_count": 44,
   "metadata": {},
   "outputs": [
    {
     "data": {
      "text/html": [
       "<div>\n",
       "<style scoped>\n",
       "    .dataframe tbody tr th:only-of-type {\n",
       "        vertical-align: middle;\n",
       "    }\n",
       "\n",
       "    .dataframe tbody tr th {\n",
       "        vertical-align: top;\n",
       "    }\n",
       "\n",
       "    .dataframe thead th {\n",
       "        text-align: right;\n",
       "    }\n",
       "</style>\n",
       "<table border=\"1\" class=\"dataframe\">\n",
       "  <thead>\n",
       "    <tr style=\"text-align: right;\">\n",
       "      <th></th>\n",
       "      <th>wolne</th>\n",
       "      <th>napój</th>\n",
       "      <th>wyjście</th>\n",
       "      <th>po_roku</th>\n",
       "    </tr>\n",
       "  </thead>\n",
       "  <tbody>\n",
       "    <tr>\n",
       "      <th>4</th>\n",
       "      <td>telewizja</td>\n",
       "      <td>kawa</td>\n",
       "      <td>teatr</td>\n",
       "      <td>Nie</td>\n",
       "    </tr>\n",
       "    <tr>\n",
       "      <th>6</th>\n",
       "      <td>telewizja</td>\n",
       "      <td>herbata</td>\n",
       "      <td>kino</td>\n",
       "      <td>Nie</td>\n",
       "    </tr>\n",
       "    <tr>\n",
       "      <th>7</th>\n",
       "      <td>telewizja</td>\n",
       "      <td>kawa</td>\n",
       "      <td>teatr</td>\n",
       "      <td>Tak</td>\n",
       "    </tr>\n",
       "    <tr>\n",
       "      <th>10</th>\n",
       "      <td>telewizja</td>\n",
       "      <td>herbata</td>\n",
       "      <td>kino</td>\n",
       "      <td>Nie</td>\n",
       "    </tr>\n",
       "    <tr>\n",
       "      <th>11</th>\n",
       "      <td>telewizja</td>\n",
       "      <td>herbata</td>\n",
       "      <td>teatr</td>\n",
       "      <td>Nie</td>\n",
       "    </tr>\n",
       "    <tr>\n",
       "      <th>12</th>\n",
       "      <td>telewizja</td>\n",
       "      <td>kawa</td>\n",
       "      <td>teatr</td>\n",
       "      <td>Nie</td>\n",
       "    </tr>\n",
       "    <tr>\n",
       "      <th>14</th>\n",
       "      <td>telewizja</td>\n",
       "      <td>herbata</td>\n",
       "      <td>kino</td>\n",
       "      <td>Nie</td>\n",
       "    </tr>\n",
       "    <tr>\n",
       "      <th>15</th>\n",
       "      <td>telewizja</td>\n",
       "      <td>kawa</td>\n",
       "      <td>kino</td>\n",
       "      <td>Nie</td>\n",
       "    </tr>\n",
       "    <tr>\n",
       "      <th>16</th>\n",
       "      <td>telewizja</td>\n",
       "      <td>herbata</td>\n",
       "      <td>teatr</td>\n",
       "      <td>Tak</td>\n",
       "    </tr>\n",
       "    <tr>\n",
       "      <th>19</th>\n",
       "      <td>telewizja</td>\n",
       "      <td>kawa</td>\n",
       "      <td>teatr</td>\n",
       "      <td>Tak</td>\n",
       "    </tr>\n",
       "  </tbody>\n",
       "</table>\n",
       "</div>"
      ],
      "text/plain": [
       "        wolne    napój wyjście po_roku\n",
       "4   telewizja     kawa   teatr     Nie\n",
       "6   telewizja  herbata    kino     Nie\n",
       "7   telewizja     kawa   teatr     Tak\n",
       "10  telewizja  herbata    kino     Nie\n",
       "11  telewizja  herbata   teatr     Nie\n",
       "12  telewizja     kawa   teatr     Nie\n",
       "14  telewizja  herbata    kino     Nie\n",
       "15  telewizja     kawa    kino     Nie\n",
       "16  telewizja  herbata   teatr     Tak\n",
       "19  telewizja     kawa   teatr     Tak"
      ]
     },
     "execution_count": 44,
     "metadata": {},
     "output_type": "execute_result"
    }
   ],
   "source": [
    "prenumeratorzy[prenumeratorzy[\"wolne\"] == \"telewizja\"]"
   ]
  },
  {
   "cell_type": "code",
   "execution_count": 45,
   "metadata": {},
   "outputs": [],
   "source": [
    "from sklearn.tree import DecisionTreeClassifier"
   ]
  },
  {
   "cell_type": "code",
   "execution_count": 47,
   "metadata": {},
   "outputs": [
    {
     "data": {
      "text/html": [
       "<div>\n",
       "<style scoped>\n",
       "    .dataframe tbody tr th:only-of-type {\n",
       "        vertical-align: middle;\n",
       "    }\n",
       "\n",
       "    .dataframe tbody tr th {\n",
       "        vertical-align: top;\n",
       "    }\n",
       "\n",
       "    .dataframe thead th {\n",
       "        text-align: right;\n",
       "    }\n",
       "</style>\n",
       "<table border=\"1\" class=\"dataframe\">\n",
       "  <thead>\n",
       "    <tr style=\"text-align: right;\">\n",
       "      <th></th>\n",
       "      <th>wolne</th>\n",
       "      <th>napój</th>\n",
       "      <th>wyjście</th>\n",
       "      <th>po_roku</th>\n",
       "    </tr>\n",
       "  </thead>\n",
       "  <tbody>\n",
       "    <tr>\n",
       "      <th>0</th>\n",
       "      <td>książka</td>\n",
       "      <td>herbata</td>\n",
       "      <td>teatr</td>\n",
       "      <td>Tak</td>\n",
       "    </tr>\n",
       "    <tr>\n",
       "      <th>1</th>\n",
       "      <td>książka</td>\n",
       "      <td>kawa</td>\n",
       "      <td>teatr</td>\n",
       "      <td>Nie</td>\n",
       "    </tr>\n",
       "    <tr>\n",
       "      <th>2</th>\n",
       "      <td>książka</td>\n",
       "      <td>kawa</td>\n",
       "      <td>kino</td>\n",
       "      <td>Tak</td>\n",
       "    </tr>\n",
       "    <tr>\n",
       "      <th>3</th>\n",
       "      <td>książka</td>\n",
       "      <td>herbata</td>\n",
       "      <td>kino</td>\n",
       "      <td>Tak</td>\n",
       "    </tr>\n",
       "    <tr>\n",
       "      <th>4</th>\n",
       "      <td>telewizja</td>\n",
       "      <td>kawa</td>\n",
       "      <td>teatr</td>\n",
       "      <td>Nie</td>\n",
       "    </tr>\n",
       "  </tbody>\n",
       "</table>\n",
       "</div>"
      ],
      "text/plain": [
       "       wolne    napój wyjście po_roku\n",
       "0    książka  herbata   teatr     Tak\n",
       "1    książka     kawa   teatr     Nie\n",
       "2    książka     kawa    kino     Tak\n",
       "3    książka  herbata    kino     Tak\n",
       "4  telewizja     kawa   teatr     Nie"
      ]
     },
     "execution_count": 47,
     "metadata": {},
     "output_type": "execute_result"
    }
   ],
   "source": [
    "prenumeratorzy.head()"
   ]
  },
  {
   "cell_type": "code",
   "execution_count": 48,
   "metadata": {},
   "outputs": [],
   "source": [
    "prenumeratorzy[\"wolne\"], wolne_kody = pd.factorize(prenumeratorzy[\"wolne\"])\n",
    "prenumeratorzy[\"napój\"], napój_kody = pd.factorize(prenumeratorzy[\"napój\"])\n",
    "prenumeratorzy[\"wyjście\"], wyjście_kody = pd.factorize(prenumeratorzy[\"wyjście\"])\n",
    "prenumeratorzy[\"po_roku\"], po_roku_kody = pd.factorize(prenumeratorzy[\"po_roku\"])"
   ]
  },
  {
   "cell_type": "code",
   "execution_count": 49,
   "metadata": {},
   "outputs": [
    {
     "data": {
      "text/html": [
       "<div>\n",
       "<style scoped>\n",
       "    .dataframe tbody tr th:only-of-type {\n",
       "        vertical-align: middle;\n",
       "    }\n",
       "\n",
       "    .dataframe tbody tr th {\n",
       "        vertical-align: top;\n",
       "    }\n",
       "\n",
       "    .dataframe thead th {\n",
       "        text-align: right;\n",
       "    }\n",
       "</style>\n",
       "<table border=\"1\" class=\"dataframe\">\n",
       "  <thead>\n",
       "    <tr style=\"text-align: right;\">\n",
       "      <th></th>\n",
       "      <th>wolne</th>\n",
       "      <th>napój</th>\n",
       "      <th>wyjście</th>\n",
       "      <th>po_roku</th>\n",
       "    </tr>\n",
       "  </thead>\n",
       "  <tbody>\n",
       "    <tr>\n",
       "      <th>0</th>\n",
       "      <td>0</td>\n",
       "      <td>0</td>\n",
       "      <td>0</td>\n",
       "      <td>0</td>\n",
       "    </tr>\n",
       "    <tr>\n",
       "      <th>1</th>\n",
       "      <td>0</td>\n",
       "      <td>1</td>\n",
       "      <td>0</td>\n",
       "      <td>1</td>\n",
       "    </tr>\n",
       "    <tr>\n",
       "      <th>2</th>\n",
       "      <td>0</td>\n",
       "      <td>1</td>\n",
       "      <td>1</td>\n",
       "      <td>0</td>\n",
       "    </tr>\n",
       "    <tr>\n",
       "      <th>3</th>\n",
       "      <td>0</td>\n",
       "      <td>0</td>\n",
       "      <td>1</td>\n",
       "      <td>0</td>\n",
       "    </tr>\n",
       "    <tr>\n",
       "      <th>4</th>\n",
       "      <td>1</td>\n",
       "      <td>1</td>\n",
       "      <td>0</td>\n",
       "      <td>1</td>\n",
       "    </tr>\n",
       "  </tbody>\n",
       "</table>\n",
       "</div>"
      ],
      "text/plain": [
       "   wolne  napój  wyjście  po_roku\n",
       "0      0      0        0        0\n",
       "1      0      1        0        1\n",
       "2      0      1        1        0\n",
       "3      0      0        1        0\n",
       "4      1      1        0        1"
      ]
     },
     "execution_count": 49,
     "metadata": {},
     "output_type": "execute_result"
    }
   ],
   "source": [
    "prenumeratorzy.head()"
   ]
  },
  {
   "cell_type": "code",
   "execution_count": 50,
   "metadata": {},
   "outputs": [
    {
     "data": {
      "text/plain": [
       "Index(['książka', 'telewizja'], dtype='object')"
      ]
     },
     "execution_count": 50,
     "metadata": {},
     "output_type": "execute_result"
    }
   ],
   "source": [
    "wolne_kody"
   ]
  },
  {
   "cell_type": "code",
   "execution_count": 52,
   "metadata": {},
   "outputs": [],
   "source": [
    "X = prenumeratorzy.drop([\"po_roku\"], axis = 1)\n",
    "y = prenumeratorzy[\"po_roku\"]"
   ]
  },
  {
   "cell_type": "code",
   "execution_count": 62,
   "metadata": {},
   "outputs": [],
   "source": [
    "klasyfikator = DecisionTreeClassifier(criterion = \"entropy\", max_depth = 10)"
   ]
  },
  {
   "cell_type": "code",
   "execution_count": 63,
   "metadata": {},
   "outputs": [
    {
     "data": {
      "text/plain": [
       "DecisionTreeClassifier(class_weight=None, criterion='entropy', max_depth=10,\n",
       "            max_features=None, max_leaf_nodes=None,\n",
       "            min_impurity_decrease=0.0, min_impurity_split=None,\n",
       "            min_samples_leaf=1, min_samples_split=2,\n",
       "            min_weight_fraction_leaf=0.0, presort=False, random_state=None,\n",
       "            splitter='best')"
      ]
     },
     "execution_count": 63,
     "metadata": {},
     "output_type": "execute_result"
    }
   ],
   "source": [
    "klasyfikator.fit(X = X, y = y)"
   ]
  },
  {
   "cell_type": "code",
   "execution_count": 64,
   "metadata": {},
   "outputs": [],
   "source": [
    "import graphviz\n",
    "from sklearn import tree"
   ]
  },
  {
   "cell_type": "code",
   "execution_count": 65,
   "metadata": {},
   "outputs": [],
   "source": [
    "drzewo = tree.export_graphviz(klasyfikator, out_file=None, \n",
    "                         feature_names=X.columns,  \n",
    "                         class_names=po_roku_kody,  \n",
    "                         filled=True, rounded=True,  \n",
    "                         special_characters=True)  "
   ]
  },
  {
   "cell_type": "code",
   "execution_count": 66,
   "metadata": {},
   "outputs": [],
   "source": [
    "graf = graphviz.Source(drzewo)"
   ]
  },
  {
   "cell_type": "code",
   "execution_count": 67,
   "metadata": {},
   "outputs": [
    {
     "data": {
      "image/svg+xml": [
       "<?xml version=\"1.0\" encoding=\"UTF-8\" standalone=\"no\"?>\n",
       "<!DOCTYPE svg PUBLIC \"-//W3C//DTD SVG 1.1//EN\"\n",
       " \"http://www.w3.org/Graphics/SVG/1.1/DTD/svg11.dtd\">\n",
       "<!-- Generated by graphviz version 2.40.1 (20161225.0304)\n",
       " -->\n",
       "<!-- Title: Tree Pages: 1 -->\n",
       "<svg width=\"724pt\" height=\"433pt\"\n",
       " viewBox=\"0.00 0.00 723.50 433.00\" xmlns=\"http://www.w3.org/2000/svg\" xmlns:xlink=\"http://www.w3.org/1999/xlink\">\n",
       "<g id=\"graph0\" class=\"graph\" transform=\"scale(1 1) rotate(0) translate(4 429)\">\n",
       "<title>Tree</title>\n",
       "<polygon fill=\"#ffffff\" stroke=\"transparent\" points=\"-4,4 -4,-429 719.5,-429 719.5,4 -4,4\"/>\n",
       "<!-- 0 -->\n",
       "<g id=\"node1\" class=\"node\">\n",
       "<title>0</title>\n",
       "<path fill=\"#399de5\" fill-opacity=\"0.180392\" stroke=\"#000000\" d=\"M527,-425C527,-425 437,-425 437,-425 431,-425 425,-419 425,-413 425,-413 425,-354 425,-354 425,-348 431,-342 437,-342 437,-342 527,-342 527,-342 533,-342 539,-348 539,-354 539,-354 539,-413 539,-413 539,-419 533,-425 527,-425\"/>\n",
       "<text text-anchor=\"start\" x=\"446.5\" y=\"-409.8\" font-family=\"Helvetica,sans-Serif\" font-size=\"14.00\" fill=\"#000000\">wolne ≤ 0.5</text>\n",
       "<text text-anchor=\"start\" x=\"433\" y=\"-394.8\" font-family=\"Helvetica,sans-Serif\" font-size=\"14.00\" fill=\"#000000\">entropy = 0.993</text>\n",
       "<text text-anchor=\"start\" x=\"440\" y=\"-379.8\" font-family=\"Helvetica,sans-Serif\" font-size=\"14.00\" fill=\"#000000\">samples = 20</text>\n",
       "<text text-anchor=\"start\" x=\"438\" y=\"-364.8\" font-family=\"Helvetica,sans-Serif\" font-size=\"14.00\" fill=\"#000000\">value = [9, 11]</text>\n",
       "<text text-anchor=\"start\" x=\"447\" y=\"-349.8\" font-family=\"Helvetica,sans-Serif\" font-size=\"14.00\" fill=\"#000000\">class = Nie</text>\n",
       "</g>\n",
       "<!-- 1 -->\n",
       "<g id=\"node2\" class=\"node\">\n",
       "<title>1</title>\n",
       "<path fill=\"#e58139\" fill-opacity=\"0.333333\" stroke=\"#000000\" d=\"M410,-306C410,-306 320,-306 320,-306 314,-306 308,-300 308,-294 308,-294 308,-235 308,-235 308,-229 314,-223 320,-223 320,-223 410,-223 410,-223 416,-223 422,-229 422,-235 422,-235 422,-294 422,-294 422,-300 416,-306 410,-306\"/>\n",
       "<text text-anchor=\"start\" x=\"325\" y=\"-290.8\" font-family=\"Helvetica,sans-Serif\" font-size=\"14.00\" fill=\"#000000\">wyjście ≤ 0.5</text>\n",
       "<text text-anchor=\"start\" x=\"316\" y=\"-275.8\" font-family=\"Helvetica,sans-Serif\" font-size=\"14.00\" fill=\"#000000\">entropy = 0.971</text>\n",
       "<text text-anchor=\"start\" x=\"323\" y=\"-260.8\" font-family=\"Helvetica,sans-Serif\" font-size=\"14.00\" fill=\"#000000\">samples = 10</text>\n",
       "<text text-anchor=\"start\" x=\"325\" y=\"-245.8\" font-family=\"Helvetica,sans-Serif\" font-size=\"14.00\" fill=\"#000000\">value = [6, 4]</text>\n",
       "<text text-anchor=\"start\" x=\"328.5\" y=\"-230.8\" font-family=\"Helvetica,sans-Serif\" font-size=\"14.00\" fill=\"#000000\">class = Tak</text>\n",
       "</g>\n",
       "<!-- 0&#45;&gt;1 -->\n",
       "<g id=\"edge1\" class=\"edge\">\n",
       "<title>0&#45;&gt;1</title>\n",
       "<path fill=\"none\" stroke=\"#000000\" d=\"M441.0791,-341.8796C432.047,-332.6931 422.3987,-322.8798 413.1112,-313.4336\"/>\n",
       "<polygon fill=\"#000000\" stroke=\"#000000\" points=\"415.6023,-310.975 406.0956,-306.2981 410.6107,-315.8827 415.6023,-310.975\"/>\n",
       "<text text-anchor=\"middle\" x=\"405.8837\" y=\"-327.5972\" font-family=\"Helvetica,sans-Serif\" font-size=\"14.00\" fill=\"#000000\">True</text>\n",
       "</g>\n",
       "<!-- 8 -->\n",
       "<g id=\"node9\" class=\"node\">\n",
       "<title>8</title>\n",
       "<path fill=\"#399de5\" fill-opacity=\"0.572549\" stroke=\"#000000\" d=\"M594,-306C594,-306 504,-306 504,-306 498,-306 492,-300 492,-294 492,-294 492,-235 492,-235 492,-229 498,-223 504,-223 504,-223 594,-223 594,-223 600,-223 606,-229 606,-235 606,-235 606,-294 606,-294 606,-300 600,-306 594,-306\"/>\n",
       "<text text-anchor=\"start\" x=\"509\" y=\"-290.8\" font-family=\"Helvetica,sans-Serif\" font-size=\"14.00\" fill=\"#000000\">wyjście ≤ 0.5</text>\n",
       "<text text-anchor=\"start\" x=\"500\" y=\"-275.8\" font-family=\"Helvetica,sans-Serif\" font-size=\"14.00\" fill=\"#000000\">entropy = 0.881</text>\n",
       "<text text-anchor=\"start\" x=\"507\" y=\"-260.8\" font-family=\"Helvetica,sans-Serif\" font-size=\"14.00\" fill=\"#000000\">samples = 10</text>\n",
       "<text text-anchor=\"start\" x=\"509\" y=\"-245.8\" font-family=\"Helvetica,sans-Serif\" font-size=\"14.00\" fill=\"#000000\">value = [3, 7]</text>\n",
       "<text text-anchor=\"start\" x=\"514\" y=\"-230.8\" font-family=\"Helvetica,sans-Serif\" font-size=\"14.00\" fill=\"#000000\">class = Nie</text>\n",
       "</g>\n",
       "<!-- 0&#45;&gt;8 -->\n",
       "<g id=\"edge8\" class=\"edge\">\n",
       "<title>0&#45;&gt;8</title>\n",
       "<path fill=\"none\" stroke=\"#000000\" d=\"M505.4333,-341.8796C510.3013,-333.2335 515.4819,-324.0322 520.5086,-315.1042\"/>\n",
       "<polygon fill=\"#000000\" stroke=\"#000000\" points=\"523.6103,-316.729 525.4666,-306.2981 517.5107,-313.2947 523.6103,-316.729\"/>\n",
       "<text text-anchor=\"middle\" x=\"532.1978\" y=\"-326.6749\" font-family=\"Helvetica,sans-Serif\" font-size=\"14.00\" fill=\"#000000\">False</text>\n",
       "</g>\n",
       "<!-- 2 -->\n",
       "<g id=\"node3\" class=\"node\">\n",
       "<title>2</title>\n",
       "<path fill=\"#399de5\" fill-opacity=\"0.333333\" stroke=\"#000000\" d=\"M227,-187C227,-187 137,-187 137,-187 131,-187 125,-181 125,-175 125,-175 125,-116 125,-116 125,-110 131,-104 137,-104 137,-104 227,-104 227,-104 233,-104 239,-110 239,-116 239,-116 239,-175 239,-175 239,-181 233,-187 227,-187\"/>\n",
       "<text text-anchor=\"start\" x=\"147\" y=\"-171.8\" font-family=\"Helvetica,sans-Serif\" font-size=\"14.00\" fill=\"#000000\">napój ≤ 0.5</text>\n",
       "<text text-anchor=\"start\" x=\"133\" y=\"-156.8\" font-family=\"Helvetica,sans-Serif\" font-size=\"14.00\" fill=\"#000000\">entropy = 0.971</text>\n",
       "<text text-anchor=\"start\" x=\"144\" y=\"-141.8\" font-family=\"Helvetica,sans-Serif\" font-size=\"14.00\" fill=\"#000000\">samples = 5</text>\n",
       "<text text-anchor=\"start\" x=\"142\" y=\"-126.8\" font-family=\"Helvetica,sans-Serif\" font-size=\"14.00\" fill=\"#000000\">value = [2, 3]</text>\n",
       "<text text-anchor=\"start\" x=\"147\" y=\"-111.8\" font-family=\"Helvetica,sans-Serif\" font-size=\"14.00\" fill=\"#000000\">class = Nie</text>\n",
       "</g>\n",
       "<!-- 1&#45;&gt;2 -->\n",
       "<g id=\"edge2\" class=\"edge\">\n",
       "<title>1&#45;&gt;2</title>\n",
       "<path fill=\"none\" stroke=\"#000000\" d=\"M307.8504,-227.3371C288.7576,-214.9216 267.3305,-200.9882 247.6433,-188.1861\"/>\n",
       "<polygon fill=\"#000000\" stroke=\"#000000\" points=\"249.3222,-185.1029 239.0307,-182.5856 245.5061,-190.9713 249.3222,-185.1029\"/>\n",
       "</g>\n",
       "<!-- 5 -->\n",
       "<g id=\"node6\" class=\"node\">\n",
       "<title>5</title>\n",
       "<path fill=\"#e58139\" fill-opacity=\"0.749020\" stroke=\"#000000\" d=\"M410,-187C410,-187 320,-187 320,-187 314,-187 308,-181 308,-175 308,-175 308,-116 308,-116 308,-110 314,-104 320,-104 320,-104 410,-104 410,-104 416,-104 422,-110 422,-116 422,-116 422,-175 422,-175 422,-181 416,-187 410,-187\"/>\n",
       "<text text-anchor=\"start\" x=\"330\" y=\"-171.8\" font-family=\"Helvetica,sans-Serif\" font-size=\"14.00\" fill=\"#000000\">napój ≤ 0.5</text>\n",
       "<text text-anchor=\"start\" x=\"316\" y=\"-156.8\" font-family=\"Helvetica,sans-Serif\" font-size=\"14.00\" fill=\"#000000\">entropy = 0.722</text>\n",
       "<text text-anchor=\"start\" x=\"327\" y=\"-141.8\" font-family=\"Helvetica,sans-Serif\" font-size=\"14.00\" fill=\"#000000\">samples = 5</text>\n",
       "<text text-anchor=\"start\" x=\"325\" y=\"-126.8\" font-family=\"Helvetica,sans-Serif\" font-size=\"14.00\" fill=\"#000000\">value = [4, 1]</text>\n",
       "<text text-anchor=\"start\" x=\"328.5\" y=\"-111.8\" font-family=\"Helvetica,sans-Serif\" font-size=\"14.00\" fill=\"#000000\">class = Tak</text>\n",
       "</g>\n",
       "<!-- 1&#45;&gt;5 -->\n",
       "<g id=\"edge5\" class=\"edge\">\n",
       "<title>1&#45;&gt;5</title>\n",
       "<path fill=\"none\" stroke=\"#000000\" d=\"M365,-222.8796C365,-214.6838 365,-205.9891 365,-197.5013\"/>\n",
       "<polygon fill=\"#000000\" stroke=\"#000000\" points=\"368.5001,-197.298 365,-187.2981 361.5001,-197.2981 368.5001,-197.298\"/>\n",
       "</g>\n",
       "<!-- 3 -->\n",
       "<g id=\"node4\" class=\"node\">\n",
       "<title>3</title>\n",
       "<path fill=\"#399de5\" fill-opacity=\"0.498039\" stroke=\"#000000\" d=\"M102,-68C102,-68 12,-68 12,-68 6,-68 0,-62 0,-56 0,-56 0,-12 0,-12 0,-6 6,0 12,0 12,0 102,0 102,0 108,0 114,-6 114,-12 114,-12 114,-56 114,-56 114,-62 108,-68 102,-68\"/>\n",
       "<text text-anchor=\"start\" x=\"8\" y=\"-52.8\" font-family=\"Helvetica,sans-Serif\" font-size=\"14.00\" fill=\"#000000\">entropy = 0.918</text>\n",
       "<text text-anchor=\"start\" x=\"19\" y=\"-37.8\" font-family=\"Helvetica,sans-Serif\" font-size=\"14.00\" fill=\"#000000\">samples = 3</text>\n",
       "<text text-anchor=\"start\" x=\"17\" y=\"-22.8\" font-family=\"Helvetica,sans-Serif\" font-size=\"14.00\" fill=\"#000000\">value = [1, 2]</text>\n",
       "<text text-anchor=\"start\" x=\"22\" y=\"-7.8\" font-family=\"Helvetica,sans-Serif\" font-size=\"14.00\" fill=\"#000000\">class = Nie</text>\n",
       "</g>\n",
       "<!-- 2&#45;&gt;3 -->\n",
       "<g id=\"edge3\" class=\"edge\">\n",
       "<title>2&#45;&gt;3</title>\n",
       "<path fill=\"none\" stroke=\"#000000\" d=\"M135.4546,-103.9815C124.8421,-94.5151 113.5718,-84.462 102.9829,-75.0168\"/>\n",
       "<polygon fill=\"#000000\" stroke=\"#000000\" points=\"105.2046,-72.3084 95.4122,-68.2637 100.5449,-77.5322 105.2046,-72.3084\"/>\n",
       "</g>\n",
       "<!-- 4 -->\n",
       "<g id=\"node5\" class=\"node\">\n",
       "<title>4</title>\n",
       "<path fill=\"transparent\" stroke=\"#000000\" d=\"M219.5,-68C219.5,-68 144.5,-68 144.5,-68 138.5,-68 132.5,-62 132.5,-56 132.5,-56 132.5,-12 132.5,-12 132.5,-6 138.5,0 144.5,0 144.5,0 219.5,0 219.5,0 225.5,0 231.5,-6 231.5,-12 231.5,-12 231.5,-56 231.5,-56 231.5,-62 225.5,-68 219.5,-68\"/>\n",
       "<text text-anchor=\"start\" x=\"140.5\" y=\"-52.8\" font-family=\"Helvetica,sans-Serif\" font-size=\"14.00\" fill=\"#000000\">entropy = 1.0</text>\n",
       "<text text-anchor=\"start\" x=\"144\" y=\"-37.8\" font-family=\"Helvetica,sans-Serif\" font-size=\"14.00\" fill=\"#000000\">samples = 2</text>\n",
       "<text text-anchor=\"start\" x=\"142\" y=\"-22.8\" font-family=\"Helvetica,sans-Serif\" font-size=\"14.00\" fill=\"#000000\">value = [1, 1]</text>\n",
       "<text text-anchor=\"start\" x=\"145.5\" y=\"-7.8\" font-family=\"Helvetica,sans-Serif\" font-size=\"14.00\" fill=\"#000000\">class = Tak</text>\n",
       "</g>\n",
       "<!-- 2&#45;&gt;4 -->\n",
       "<g id=\"edge4\" class=\"edge\">\n",
       "<title>2&#45;&gt;4</title>\n",
       "<path fill=\"none\" stroke=\"#000000\" d=\"M182,-103.9815C182,-95.618 182,-86.7965 182,-78.3409\"/>\n",
       "<polygon fill=\"#000000\" stroke=\"#000000\" points=\"185.5001,-78.2636 182,-68.2637 178.5001,-78.2637 185.5001,-78.2636\"/>\n",
       "</g>\n",
       "<!-- 6 -->\n",
       "<g id=\"node7\" class=\"node\">\n",
       "<title>6</title>\n",
       "<path fill=\"#e58139\" stroke=\"#000000\" d=\"M336.5,-68C336.5,-68 261.5,-68 261.5,-68 255.5,-68 249.5,-62 249.5,-56 249.5,-56 249.5,-12 249.5,-12 249.5,-6 255.5,0 261.5,0 261.5,0 336.5,0 336.5,0 342.5,0 348.5,-6 348.5,-12 348.5,-12 348.5,-56 348.5,-56 348.5,-62 342.5,-68 336.5,-68\"/>\n",
       "<text text-anchor=\"start\" x=\"257.5\" y=\"-52.8\" font-family=\"Helvetica,sans-Serif\" font-size=\"14.00\" fill=\"#000000\">entropy = 0.0</text>\n",
       "<text text-anchor=\"start\" x=\"261\" y=\"-37.8\" font-family=\"Helvetica,sans-Serif\" font-size=\"14.00\" fill=\"#000000\">samples = 2</text>\n",
       "<text text-anchor=\"start\" x=\"259\" y=\"-22.8\" font-family=\"Helvetica,sans-Serif\" font-size=\"14.00\" fill=\"#000000\">value = [2, 0]</text>\n",
       "<text text-anchor=\"start\" x=\"262.5\" y=\"-7.8\" font-family=\"Helvetica,sans-Serif\" font-size=\"14.00\" fill=\"#000000\">class = Tak</text>\n",
       "</g>\n",
       "<!-- 5&#45;&gt;6 -->\n",
       "<g id=\"edge6\" class=\"edge\">\n",
       "<title>5&#45;&gt;6</title>\n",
       "<path fill=\"none\" stroke=\"#000000\" d=\"M340.424,-103.9815C335.2014,-95.1585 329.6771,-85.8258 324.4237,-76.9506\"/>\n",
       "<polygon fill=\"#000000\" stroke=\"#000000\" points=\"327.3874,-75.0863 319.2816,-68.2637 321.3636,-78.652 327.3874,-75.0863\"/>\n",
       "</g>\n",
       "<!-- 7 -->\n",
       "<g id=\"node8\" class=\"node\">\n",
       "<title>7</title>\n",
       "<path fill=\"#e58139\" fill-opacity=\"0.498039\" stroke=\"#000000\" d=\"M469,-68C469,-68 379,-68 379,-68 373,-68 367,-62 367,-56 367,-56 367,-12 367,-12 367,-6 373,0 379,0 379,0 469,0 469,0 475,0 481,-6 481,-12 481,-12 481,-56 481,-56 481,-62 475,-68 469,-68\"/>\n",
       "<text text-anchor=\"start\" x=\"375\" y=\"-52.8\" font-family=\"Helvetica,sans-Serif\" font-size=\"14.00\" fill=\"#000000\">entropy = 0.918</text>\n",
       "<text text-anchor=\"start\" x=\"386\" y=\"-37.8\" font-family=\"Helvetica,sans-Serif\" font-size=\"14.00\" fill=\"#000000\">samples = 3</text>\n",
       "<text text-anchor=\"start\" x=\"384\" y=\"-22.8\" font-family=\"Helvetica,sans-Serif\" font-size=\"14.00\" fill=\"#000000\">value = [2, 1]</text>\n",
       "<text text-anchor=\"start\" x=\"387.5\" y=\"-7.8\" font-family=\"Helvetica,sans-Serif\" font-size=\"14.00\" fill=\"#000000\">class = Tak</text>\n",
       "</g>\n",
       "<!-- 5&#45;&gt;7 -->\n",
       "<g id=\"edge7\" class=\"edge\">\n",
       "<title>5&#45;&gt;7</title>\n",
       "<path fill=\"none\" stroke=\"#000000\" d=\"M386.9694,-103.9815C391.5895,-95.2504 396.4736,-86.0202 401.126,-77.2281\"/>\n",
       "<polygon fill=\"#000000\" stroke=\"#000000\" points=\"404.2859,-78.7395 405.8694,-68.2637 398.0987,-75.4655 404.2859,-78.7395\"/>\n",
       "</g>\n",
       "<!-- 9 -->\n",
       "<g id=\"node10\" class=\"node\">\n",
       "<title>9</title>\n",
       "<path fill=\"transparent\" stroke=\"#000000\" d=\"M586.5,-187C586.5,-187 511.5,-187 511.5,-187 505.5,-187 499.5,-181 499.5,-175 499.5,-175 499.5,-116 499.5,-116 499.5,-110 505.5,-104 511.5,-104 511.5,-104 586.5,-104 586.5,-104 592.5,-104 598.5,-110 598.5,-116 598.5,-116 598.5,-175 598.5,-175 598.5,-181 592.5,-187 586.5,-187\"/>\n",
       "<text text-anchor=\"start\" x=\"514\" y=\"-171.8\" font-family=\"Helvetica,sans-Serif\" font-size=\"14.00\" fill=\"#000000\">napój ≤ 0.5</text>\n",
       "<text text-anchor=\"start\" x=\"507.5\" y=\"-156.8\" font-family=\"Helvetica,sans-Serif\" font-size=\"14.00\" fill=\"#000000\">entropy = 1.0</text>\n",
       "<text text-anchor=\"start\" x=\"511\" y=\"-141.8\" font-family=\"Helvetica,sans-Serif\" font-size=\"14.00\" fill=\"#000000\">samples = 6</text>\n",
       "<text text-anchor=\"start\" x=\"509\" y=\"-126.8\" font-family=\"Helvetica,sans-Serif\" font-size=\"14.00\" fill=\"#000000\">value = [3, 3]</text>\n",
       "<text text-anchor=\"start\" x=\"512.5\" y=\"-111.8\" font-family=\"Helvetica,sans-Serif\" font-size=\"14.00\" fill=\"#000000\">class = Tak</text>\n",
       "</g>\n",
       "<!-- 8&#45;&gt;9 -->\n",
       "<g id=\"edge9\" class=\"edge\">\n",
       "<title>8&#45;&gt;9</title>\n",
       "<path fill=\"none\" stroke=\"#000000\" d=\"M549,-222.8796C549,-214.6838 549,-205.9891 549,-197.5013\"/>\n",
       "<polygon fill=\"#000000\" stroke=\"#000000\" points=\"552.5001,-197.298 549,-187.2981 545.5001,-197.2981 552.5001,-197.298\"/>\n",
       "</g>\n",
       "<!-- 12 -->\n",
       "<g id=\"node13\" class=\"node\">\n",
       "<title>12</title>\n",
       "<path fill=\"#399de5\" stroke=\"#000000\" d=\"M703.5,-179.5C703.5,-179.5 628.5,-179.5 628.5,-179.5 622.5,-179.5 616.5,-173.5 616.5,-167.5 616.5,-167.5 616.5,-123.5 616.5,-123.5 616.5,-117.5 622.5,-111.5 628.5,-111.5 628.5,-111.5 703.5,-111.5 703.5,-111.5 709.5,-111.5 715.5,-117.5 715.5,-123.5 715.5,-123.5 715.5,-167.5 715.5,-167.5 715.5,-173.5 709.5,-179.5 703.5,-179.5\"/>\n",
       "<text text-anchor=\"start\" x=\"624.5\" y=\"-164.3\" font-family=\"Helvetica,sans-Serif\" font-size=\"14.00\" fill=\"#000000\">entropy = 0.0</text>\n",
       "<text text-anchor=\"start\" x=\"628\" y=\"-149.3\" font-family=\"Helvetica,sans-Serif\" font-size=\"14.00\" fill=\"#000000\">samples = 4</text>\n",
       "<text text-anchor=\"start\" x=\"626\" y=\"-134.3\" font-family=\"Helvetica,sans-Serif\" font-size=\"14.00\" fill=\"#000000\">value = [0, 4]</text>\n",
       "<text text-anchor=\"start\" x=\"631\" y=\"-119.3\" font-family=\"Helvetica,sans-Serif\" font-size=\"14.00\" fill=\"#000000\">class = Nie</text>\n",
       "</g>\n",
       "<!-- 8&#45;&gt;12 -->\n",
       "<g id=\"edge12\" class=\"edge\">\n",
       "<title>8&#45;&gt;12</title>\n",
       "<path fill=\"none\" stroke=\"#000000\" d=\"M589.9209,-222.8796C601.2728,-211.3337 613.5982,-198.7976 624.957,-187.2446\"/>\n",
       "<polygon fill=\"#000000\" stroke=\"#000000\" points=\"627.7466,-189.3995 632.2618,-179.8149 622.7551,-184.4919 627.7466,-189.3995\"/>\n",
       "</g>\n",
       "<!-- 10 -->\n",
       "<g id=\"node11\" class=\"node\">\n",
       "<title>10</title>\n",
       "<path fill=\"transparent\" stroke=\"#000000\" d=\"M586.5,-68C586.5,-68 511.5,-68 511.5,-68 505.5,-68 499.5,-62 499.5,-56 499.5,-56 499.5,-12 499.5,-12 499.5,-6 505.5,0 511.5,0 511.5,0 586.5,0 586.5,0 592.5,0 598.5,-6 598.5,-12 598.5,-12 598.5,-56 598.5,-56 598.5,-62 592.5,-68 586.5,-68\"/>\n",
       "<text text-anchor=\"start\" x=\"507.5\" y=\"-52.8\" font-family=\"Helvetica,sans-Serif\" font-size=\"14.00\" fill=\"#000000\">entropy = 1.0</text>\n",
       "<text text-anchor=\"start\" x=\"511\" y=\"-37.8\" font-family=\"Helvetica,sans-Serif\" font-size=\"14.00\" fill=\"#000000\">samples = 2</text>\n",
       "<text text-anchor=\"start\" x=\"509\" y=\"-22.8\" font-family=\"Helvetica,sans-Serif\" font-size=\"14.00\" fill=\"#000000\">value = [1, 1]</text>\n",
       "<text text-anchor=\"start\" x=\"512.5\" y=\"-7.8\" font-family=\"Helvetica,sans-Serif\" font-size=\"14.00\" fill=\"#000000\">class = Tak</text>\n",
       "</g>\n",
       "<!-- 9&#45;&gt;10 -->\n",
       "<g id=\"edge10\" class=\"edge\">\n",
       "<title>9&#45;&gt;10</title>\n",
       "<path fill=\"none\" stroke=\"#000000\" d=\"M549,-103.9815C549,-95.618 549,-86.7965 549,-78.3409\"/>\n",
       "<polygon fill=\"#000000\" stroke=\"#000000\" points=\"552.5001,-78.2636 549,-68.2637 545.5001,-78.2637 552.5001,-78.2636\"/>\n",
       "</g>\n",
       "<!-- 11 -->\n",
       "<g id=\"node12\" class=\"node\">\n",
       "<title>11</title>\n",
       "<path fill=\"transparent\" stroke=\"#000000\" d=\"M703.5,-68C703.5,-68 628.5,-68 628.5,-68 622.5,-68 616.5,-62 616.5,-56 616.5,-56 616.5,-12 616.5,-12 616.5,-6 622.5,0 628.5,0 628.5,0 703.5,0 703.5,0 709.5,0 715.5,-6 715.5,-12 715.5,-12 715.5,-56 715.5,-56 715.5,-62 709.5,-68 703.5,-68\"/>\n",
       "<text text-anchor=\"start\" x=\"624.5\" y=\"-52.8\" font-family=\"Helvetica,sans-Serif\" font-size=\"14.00\" fill=\"#000000\">entropy = 1.0</text>\n",
       "<text text-anchor=\"start\" x=\"628\" y=\"-37.8\" font-family=\"Helvetica,sans-Serif\" font-size=\"14.00\" fill=\"#000000\">samples = 4</text>\n",
       "<text text-anchor=\"start\" x=\"626\" y=\"-22.8\" font-family=\"Helvetica,sans-Serif\" font-size=\"14.00\" fill=\"#000000\">value = [2, 2]</text>\n",
       "<text text-anchor=\"start\" x=\"629.5\" y=\"-7.8\" font-family=\"Helvetica,sans-Serif\" font-size=\"14.00\" fill=\"#000000\">class = Tak</text>\n",
       "</g>\n",
       "<!-- 9&#45;&gt;11 -->\n",
       "<g id=\"edge11\" class=\"edge\">\n",
       "<title>9&#45;&gt;11</title>\n",
       "<path fill=\"none\" stroke=\"#000000\" d=\"M592.5665,-103.9815C602.4034,-94.607 612.844,-84.6572 622.6711,-75.2921\"/>\n",
       "<polygon fill=\"#000000\" stroke=\"#000000\" points=\"625.2216,-77.6963 630.0462,-68.2637 620.3924,-72.6289 625.2216,-77.6963\"/>\n",
       "</g>\n",
       "</g>\n",
       "</svg>\n"
      ],
      "text/plain": [
       "<graphviz.files.Source at 0x7fa5d8cd6198>"
      ]
     },
     "execution_count": 67,
     "metadata": {},
     "output_type": "execute_result"
    }
   ],
   "source": [
    "graf"
   ]
  },
  {
   "cell_type": "code",
   "execution_count": 68,
   "metadata": {},
   "outputs": [
    {
     "data": {
      "text/plain": [
       "(Index(['teatr', 'kino'], dtype='object'),\n",
       " Index(['książka', 'telewizja'], dtype='object'),\n",
       " Index(['herbata', 'kawa'], dtype='object'))"
      ]
     },
     "execution_count": 68,
     "metadata": {},
     "output_type": "execute_result"
    }
   ],
   "source": [
    "wyjście_kody, wolne_kody, napój_kody"
   ]
  },
  {
   "cell_type": "code",
   "execution_count": 69,
   "metadata": {},
   "outputs": [
    {
     "data": {
      "text/plain": [
       "0.7"
      ]
     },
     "execution_count": 69,
     "metadata": {},
     "output_type": "execute_result"
    }
   ],
   "source": [
    "klasyfikator.score(X, y)"
   ]
  },
  {
   "cell_type": "code",
   "execution_count": null,
   "metadata": {},
   "outputs": [],
   "source": []
  }
 ],
 "metadata": {
  "kernelspec": {
   "display_name": "Python 3",
   "language": "python",
   "name": "python3"
  },
  "language_info": {
   "codemirror_mode": {
    "name": "ipython",
    "version": 3
   },
   "file_extension": ".py",
   "mimetype": "text/x-python",
   "name": "python",
   "nbconvert_exporter": "python",
   "pygments_lexer": "ipython3",
   "version": "3.6.5"
  }
 },
 "nbformat": 4,
 "nbformat_minor": 2
}
